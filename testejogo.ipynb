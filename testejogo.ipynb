{
 "cells": [
  {
   "cell_type": "code",
   "execution_count": 1,
   "id": "c7ff3cd6",
   "metadata": {},
   "outputs": [],
   "source": [
    "import random"
   ]
  },
  {
   "cell_type": "code",
   "execution_count": 2,
   "id": "57eb9d27",
   "metadata": {},
   "outputs": [],
   "source": [
    "from os import system, name"
   ]
  },
  {
   "cell_type": "code",
   "execution_count": 3,
   "id": "33caa4d6",
   "metadata": {},
   "outputs": [],
   "source": [
    "def limpa_tela():\n",
    "    if name == 'nt':\n",
    "        _ = system('cls')\n",
    "\n",
    "    else:\n",
    "        _ =system('clear')"
   ]
  },
  {
   "cell_type": "code",
   "execution_count": null,
   "id": "38793cdc",
   "metadata": {},
   "outputs": [],
   "source": [
    "def game():\n",
    "\n",
    "    limpa_tela()\n",
    "    print(\"\\n Bem-vinde ao jogo da forca!\")\n",
    "    print(\"Advinhe a palavra abaixo:\\n\")\n",
    "\n",
    "    palavras = ['banana', 'abacate', 'uva', 'morango', 'laranja']\n",
    "\n",
    "    palavra = random.choice(palavras)\n",
    "\n",
    "    letras_descobertas = ['_' for letra in palavra]\n",
    "\n",
    "    chances = 6\n",
    "\n",
    "    letras_erradas = []\n",
    "\n",
    "    while chances > 0:\n",
    "        print(\" \".join(letras_descobertas))\n",
    "        print(\"\\nChances restantes:\", chances)\n",
    "        print(\"Letras erradas:\", \" \".join(letras_erradas))\n",
    "\n",
    "        tentativa = input(\"\\nDigite uma letra: \").lower()\n",
    "\n",
    "        if tentativa in palavra:\n",
    "            index = 0\n",
    "            for letra in palavra:\n",
    "                if tentativa == letra:\n",
    "                    letras_descobertas[index] = letra\n",
    "                index += 1\n",
    "        else:\n",
    "            chances -= 1\n",
    "            letras_erradas.append(tentativa)\n",
    "        \n",
    "        if \"_\" not in letras_descobertas:\n",
    "            print(\"\\nVocê venceu! A palavra era:\", palavra)\n",
    "            break\n",
    "    if \"_\" in letras_descobertas:\n",
    "        print(\"\\nVocê perdeu! A palavra era:\", palavra)\n",
    "\n",
    "if __name__ == \"__main__\":\n",
    "    game()\n",
    "    print(\"\\nAMO !!!\\n\")"
   ]
  },
  {
   "cell_type": "code",
   "execution_count": null,
   "id": "fd956105",
   "metadata": {},
   "outputs": [],
   "source": []
  }
 ],
 "metadata": {
  "kernelspec": {
   "display_name": "base",
   "language": "python",
   "name": "python3"
  },
  "language_info": {
   "codemirror_mode": {
    "name": "ipython",
    "version": 3
   },
   "file_extension": ".py",
   "mimetype": "text/x-python",
   "name": "python",
   "nbconvert_exporter": "python",
   "pygments_lexer": "ipython3",
   "version": "3.12.7"
  }
 },
 "nbformat": 4,
 "nbformat_minor": 5
}
